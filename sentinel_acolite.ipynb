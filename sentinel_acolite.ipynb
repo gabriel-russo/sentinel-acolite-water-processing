{
 "cells": [
  {
   "cell_type": "markdown",
   "metadata": {},
   "source": [
    "# Atenção: Antes de iniciar verifique o checklist:\n",
    "\n",
    "- Baixar todos os pacotes necessários do pip.\n",
    "    `pip install numpy matplotlib scipy gdal pyproj scikit-image pyhdf pyresample netcdf4 h5py requests pygrib cartopy sentinelsat tqdm jupyter`"
   ]
  },
  {
   "cell_type": "code",
   "execution_count": null,
   "metadata": {},
   "outputs": [],
   "source": [
    "import os, stat\n",
    "from sentinelsat import SentinelAPI, read_geojson, geojson_to_wkt\n",
    "from datetime import date\n",
    "from zipfile import ZipFile\n",
    "from glob import glob\n",
    "from tqdm import tqdm\n",
    "from os import getcwd, makedirs\n",
    "from os.path import exists, join, basename\n",
    "from IPython.display import clear_output"
   ]
  },
  {
   "cell_type": "markdown",
   "metadata": {},
   "source": [
    "### Todos os parâmetros necessários para o programa funcionar corretamente"
   ]
  },
  {
   "cell_type": "code",
   "execution_count": null,
   "metadata": {},
   "outputs": [],
   "source": [
    "# CAMINHO ONDE O SENTINELSAT IRÁ ARMAZENAR OS ARQUIVOS BAIXADOS\n",
    "CAMINHO_OUTPUT_DOWNLOAD = 'minha_pasta/pasta1/'\n",
    "# CAMINHO ONDE SERÁ ARMAZENADO OS ARQUIVOS EXTRAIDOS BAIXADO DO SENTINELSAT\n",
    "CAMINHO_OUTPUT_EXTRAIDO = 'minha_pasta/extraidos/'\n",
    "# CAMINHO PARA O GEOJSON DA ÁREA DE INTERESSE\n",
    "CAMINHO_AREA_ESTUDO_GEOJSON = 'minha_pasta/area_estudo.geojson'\n",
    "\n",
    "# USUÁRIO E SENHA UTILIZADO NO EO BROWSER\n",
    "USUARIO = 'meu_usuario'\n",
    "SENHA = 'minha_senha'\n",
    "\n",
    "# CAMINHO DE OUTPUT DO PROCESSAMENTO DO ACOLITE\n",
    "CAMINHO_OUTPUT_PROCESSADO_ACOLITE = 'minha_pasta/processados'"
   ]
  },
  {
   "cell_type": "markdown",
   "metadata": {},
   "source": [
    "### Configurações do acolite\n",
    "\n",
    "- Para evitar qualquer trabalho extra, será usado um dicionário python para substituir o .txt de configurações do acolite assim como diz a documentação (PDF página 10 última caixa de código)"
   ]
  },
  {
   "cell_type": "code",
   "execution_count": null,
   "metadata": {},
   "outputs": [],
   "source": [
    "acolite_configs = {\n",
    "    'l2w_parameters': 'rhow_*',\n",
    "    'l2w_mask_water_parameters': False,\n",
    "    'dsf_residual_glint_correction': True,\n",
    "}\n",
    "\n",
    "acolite_configs.update(polygon=CAMINHO_AREA_ESTUDO_GEOJSON)"
   ]
  },
  {
   "cell_type": "markdown",
   "metadata": {},
   "source": [
    "### Se esqueceu de criar alguma pasta, será criada"
   ]
  },
  {
   "cell_type": "code",
   "execution_count": null,
   "metadata": {},
   "outputs": [],
   "source": [
    "if not exists(CAMINHO_OUTPUT_DOWNLOAD):\n",
    "    makedirs(CAMINHO_OUTPUT_DOWNLOAD)\n",
    "\n",
    "if not exists(CAMINHO_OUTPUT_EXTRAIDO):\n",
    "    makedirs(CAMINHO_OUTPUT_EXTRAIDO)\n",
    "\n",
    "if not exists(CAMINHO_OUTPUT_PROCESSADO_ACOLITE):\n",
    "    makedirs(CAMINHO_OUTPUT_PROCESSADO_ACOLITE)"
   ]
  },
  {
   "cell_type": "markdown",
   "metadata": {},
   "source": [
    "### Baixando as imagens SENTINEL-2 L1C"
   ]
  },
  {
   "cell_type": "code",
   "execution_count": null,
   "metadata": {},
   "outputs": [],
   "source": [
    "# connect to the API\n",
    "api = SentinelAPI(USUARIO, SENHA, 'https://apihub.copernicus.eu/apihub')\n",
    "\n",
    "footprint = geojson_to_wkt(read_geojson(CAMINHO_AREA_ESTUDO_GEOJSON))\n",
    "\n",
    "dt_final = date.today()\n",
    "\n",
    "products = api.query(footprint,\n",
    "                     date=(date(2019, 5, 1), date(2019, 8, 31)),\n",
    "                     platformname='Sentinel-2',\n",
    "                     cloudcoverpercentage=(0, 99),\n",
    "                     producttype='S2MSI1C')\n",
    "\n",
    "len(products)"
   ]
  },
  {
   "cell_type": "code",
   "execution_count": null,
   "metadata": {},
   "outputs": [],
   "source": [
    "api.download_all(products, directory_path=CAMINHO_OUTPUT_DOWNLOAD)"
   ]
  },
  {
   "cell_type": "markdown",
   "metadata": {},
   "source": [
    "### Extraindo todos os arquivos baixados"
   ]
  },
  {
   "cell_type": "code",
   "execution_count": null,
   "metadata": {},
   "outputs": [],
   "source": [
    "for arquivo in tqdm(glob(f'{CAMINHO_OUTPUT_DOWNLOAD}/*.zip')):\n",
    "    with ZipFile(arquivo, 'r') as zipado:\n",
    "        zipado.extractall(CAMINHO_OUTPUT_EXTRAIDO)"
   ]
  },
  {
   "cell_type": "markdown",
   "metadata": {},
   "source": [
    "### Configurando o acolite para automatizar o processamento\n",
    "\n",
    "É necessário clonar o repositório do acolite com o comando antes de continuar:\n",
    "\n",
    "`git clone https://github.com/acolite/acolite.git acolite_py`"
   ]
  },
  {
   "cell_type": "code",
   "execution_count": null,
   "metadata": {},
   "outputs": [],
   "source": [
    "import sys\n",
    "\n",
    "pwd = getcwd()\n",
    "\n",
    "if exists(join(pwd, 'acolite')):\n",
    "    os.rename('acolite', 'acolite_py')  # É necessário renomear, por acusar erro de namespace (muitas pastas com o nome acolite)\n",
    "\n",
    "with open('acolite_py/launch_acolite.py', 'w') as launch_acolite:\n",
    "    launch_acolite.write(\"\"\"\n",
    "def launch_acolite_py(settings):\n",
    "    import sys\n",
    "\n",
    "    try:\n",
    "        import acolite as ac\n",
    "    except:\n",
    "        print('Could not import ACOLITE source')\n",
    "        print(\"Error:\", sys.exc_info())\n",
    "        return ()\n",
    "\n",
    "    ac.acolite.acolite_run(settings)\n",
    "\"\"\")\n",
    "\n",
    "with open('acolite_py/__init__.py', 'w') as init:\n",
    "    init.write('from .launch_acolite import launch_acolite_py')\n",
    "    init.write('\\n')\n",
    "\n",
    "os.chmod('acolite_py/__init__.py', stat.S_IRWXU | stat.S_IRGRP | stat.S_IROTH )\n",
    "os.chmod('acolite_py/launch_acolite.py', stat.S_IRWXU | stat.S_IRGRP | stat.S_IROTH )\n",
    "\n",
    "if join(pwd, 'acolite_py/') not in sys.path:\n",
    "    sys.path.append(join(pwd, 'acolite_py/'))\n",
    "\n",
    "if join(pwd, 'acolite_py/acolite') not in sys.path:\n",
    "    sys.path.append(join(pwd, 'acolite_py/acolite'))\n",
    "\n",
    "# if join(pwd, 'acolite/launch_acolite.py') not in sys.path:\n",
    "#     sys.path.append(join(pwd, 'acolite/launch_acolite.py'))\n",
    "\n",
    "if join(pwd, 'acolite_py/acolite/acolite/') not in sys.path:\n",
    "    sys.path.append(join(pwd, 'acolite_py/acolite/acolite'))\n",
    "\n",
    "print(sys.path)"
   ]
  },
  {
   "cell_type": "markdown",
   "metadata": {},
   "source": [
    "### Processar todos os arquivos extraidos no acolite"
   ]
  },
  {
   "cell_type": "code",
   "execution_count": null,
   "metadata": {},
   "outputs": [],
   "source": [
    "from acolite_py import launch_acolite_py"
   ]
  },
  {
   "cell_type": "code",
   "execution_count": null,
   "metadata": {},
   "outputs": [],
   "source": [
    "PASTAS_SAFE_SENTINEL = [SAFE for SAFE in glob(f'{CAMINHO_OUTPUT_EXTRAIDO}/*', recursive=False)]\n",
    "\n",
    "for PASTA in tqdm(PASTAS_SAFE_SENTINEL):\n",
    "\n",
    "    acolite_configs_temporario = acolite_configs\n",
    "\n",
    "    CAMINHO_OUTPUT_IMAGENS_PROCESSADAS = join(CAMINHO_OUTPUT_PROCESSADO_ACOLITE, basename(PASTA))\n",
    "\n",
    "    if not exists(CAMINHO_OUTPUT_IMAGENS_PROCESSADAS):\n",
    "        makedirs(CAMINHO_OUTPUT_IMAGENS_PROCESSADAS)\n",
    "\n",
    "        acolite_configs_temporario.update(inputfile=PASTA, output=CAMINHO_OUTPUT_IMAGENS_PROCESSADAS)\n",
    "\n",
    "        launch_acolite_py(settings=acolite_configs_temporario)\n",
    "\n",
    "        clear_output()\n",
    "    else:\n",
    "        print(\"Já fui processado, pulando para o próximo!!\")"
   ]
  }
 ],
 "metadata": {
  "kernelspec": {
   "display_name": "Python 3 (ipykernel)",
   "language": "python",
   "name": "python3"
  },
  "language_info": {
   "codemirror_mode": {
    "name": "ipython",
    "version": 3
   },
   "file_extension": ".py",
   "mimetype": "text/x-python",
   "name": "python",
   "nbconvert_exporter": "python",
   "pygments_lexer": "ipython3",
   "version": "3.10.6"
  }
 },
 "nbformat": 4,
 "nbformat_minor": 1
}
